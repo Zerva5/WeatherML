{
 "cells": [
  {
   "cell_type": "code",
   "execution_count": 108,
   "metadata": {},
   "outputs": [
    {
     "name": "stdout",
     "output_type": "stream",
     "text": [
      "Index(['Longitude', 'Latitude', 'Year', 'Month', 'Day', 'Max Temp', 'Min Temp',\n",
      "       'Mean Temp', 'Heat Deg Days', 'Cool Deg Days', 'Total Rain',\n",
      "       'Total Snow', 'Total Precip'],\n",
      "      dtype='object')\n",
      "[[-1.2773e+02  5.0980e+01  2.0060e+03 ...  1.4000e+00  0.0000e+00\n",
      "   1.4000e+00]\n",
      " [-1.2513e+02  4.9880e+01  1.9740e+03 ...  0.0000e+00  0.0000e+00\n",
      "   0.0000e+00]\n",
      " [-1.1735e+02  4.9480e+01  1.9210e+03 ...  0.0000e+00  0.0000e+00\n",
      "   0.0000e+00]\n",
      " ...\n",
      " [-1.2662e+02  5.5320e+01  1.9740e+03 ...  0.0000e+00  0.0000e+00\n",
      "   0.0000e+00]\n",
      " [-1.2020e+02  5.1260e+01  1.9990e+03 ...  0.0000e+00  0.0000e+00\n",
      "   0.0000e+00]\n",
      " [-1.2413e+02  4.8820e+01  1.9810e+03 ...  0.0000e+00  0.0000e+00\n",
      "   0.0000e+00]]\n",
      "[[ 7.   5.   1.4  0. ]\n",
      " [20.  11.7  0.   0. ]\n",
      " [24.4  0.6  0.   0. ]\n",
      " ...\n",
      " [10.  -7.2  0.   0. ]\n",
      " [ 3.9  0.6  0.   0. ]\n",
      " [10.6  1.7  0.   0. ]]\n"
     ]
    }
   ],
   "source": [
    "import numpy as np\n",
    "import pandas as pd\n",
    "import tensorflow as tf\n",
    "\n",
    "rawData = pd.read_pickle(\"daily_temp.pkl\").dropna()\n",
    "\n",
    "print(rawData.columns)\n",
    "data = rawData[rawData['Total Snow'].notna()].values\n",
    "\n",
    "trainingPortion = 0.8\n",
    "\n",
    "np.random.shuffle(data)\n",
    "\n",
    "splitIndex = int(len(data) * trainingPortion)\n",
    "\n",
    "print(data)\n",
    "\n"
   ]
  },
  {
   "cell_type": "code",
   "execution_count": 123,
   "metadata": {},
   "outputs": [
    {
     "name": "stdout",
     "output_type": "stream",
     "text": [
      "[[-127.73   50.98 2006.     12.     30.  ]\n",
      " [-125.13   49.88 1974.      6.     21.  ]\n",
      " [-117.35   49.48 1921.      9.     17.  ]\n",
      " ...\n",
      " [-122.7    49.15 1954.      3.     29.  ]\n",
      " [-117.63   49.3  2001.      3.      5.  ]\n",
      " [-121.72   52.26 1976.     10.     11.  ]]\n"
     ]
    }
   ],
   "source": [
    "outputCols = [4,6,10]\n",
    "normalizeValue = data[:, 4:7].max(axis=0)\n",
    "#minValue = data[]\n",
    "\n",
    "X_train = data[:splitIndex,0:5]\n",
    "Y_train = data[:splitIndex, outputCols]\n",
    "#Y_train = Y_train/normalizeValue\n",
    "\n",
    "X_test = data[splitIndex:, 0:5]\n",
    "Y_test = data[splitIndex:, outputCols]\n",
    "#Y_test = Y_test/normalizeValue\n",
    "\n",
    "print(X_train)"
   ]
  },
  {
   "cell_type": "code",
   "execution_count": 107,
   "metadata": {},
   "outputs": [
    {
     "data": {
      "text/plain": [
       "50"
      ]
     },
     "execution_count": 107,
     "metadata": {},
     "output_type": "execute_result"
    }
   ],
   "source": [
    "x = [10,20,30,40,50]\n",
    "x[3 and 4]\n"
   ]
  },
  {
   "cell_type": "code",
   "execution_count": 120,
   "metadata": {},
   "outputs": [
    {
     "name": "stdout",
     "output_type": "stream",
     "text": [
      "[]\n",
      "[[27.   5.   3.8]\n",
      " [20.  11.   0. ]\n",
      " [23.  10.   0. ]]\n",
      "[31.  50.  31.7]\n"
     ]
    }
   ],
   "source": [
    "print(X_train[:3])\n",
    "print(Y_test[:3])\n",
    "print(normalizeValue)\n",
    "#data[:, 6].argmax()\n",
    "#data[188,:]\n",
    "#print(X_train.shape)"
   ]
  },
  {
   "cell_type": "code",
   "execution_count": 135,
   "metadata": {},
   "outputs": [
    {
     "name": "stdout",
     "output_type": "stream",
     "text": [
      "Epoch 1/20\n",
      "25942/25942 [==============================] - 129s 5ms/step - loss: 27.9256 - mean_squared_logarithmic_error: 0.5875 - accuracy: 0.8749 - val_loss: 28.2384 - val_mean_squared_logarithmic_error: 0.6919 - val_accuracy: 0.8701\n",
      "Epoch 2/20\n",
      "25942/25942 [==============================] - 125s 5ms/step - loss: 26.2661 - mean_squared_logarithmic_error: 0.5425 - accuracy: 0.8806 - val_loss: 26.2950 - val_mean_squared_logarithmic_error: 0.5177 - val_accuracy: 0.8791\n",
      "Epoch 3/20\n",
      "25942/25942 [==============================] - 130s 5ms/step - loss: 26.0975 - mean_squared_logarithmic_error: 0.5373 - accuracy: 0.8809 - val_loss: 26.1223 - val_mean_squared_logarithmic_error: 0.5350 - val_accuracy: 0.8760\n",
      "Epoch 4/20\n",
      "25942/25942 [==============================] - 130s 5ms/step - loss: 25.9813 - mean_squared_logarithmic_error: 0.5354 - accuracy: 0.8811 - val_loss: 25.7999 - val_mean_squared_logarithmic_error: 0.5226 - val_accuracy: 0.8797\n",
      "Epoch 5/20\n",
      "25942/25942 [==============================] - 130s 5ms/step - loss: 25.8714 - mean_squared_logarithmic_error: 0.5328 - accuracy: 0.8814 - val_loss: 25.8907 - val_mean_squared_logarithmic_error: 0.5391 - val_accuracy: 0.8786\n",
      "Epoch 6/20\n",
      "25942/25942 [==============================] - 128s 5ms/step - loss: 25.7739 - mean_squared_logarithmic_error: 0.5309 - accuracy: 0.8818 - val_loss: 25.5718 - val_mean_squared_logarithmic_error: 0.5359 - val_accuracy: 0.8795\n",
      "Epoch 7/20\n",
      "25942/25942 [==============================] - 124s 5ms/step - loss: 25.7138 - mean_squared_logarithmic_error: 0.5294 - accuracy: 0.8820 - val_loss: 25.3667 - val_mean_squared_logarithmic_error: 0.4918 - val_accuracy: 0.8830\n",
      "Epoch 8/20\n",
      "25942/25942 [==============================] - 122s 5ms/step - loss: 25.6675 - mean_squared_logarithmic_error: 0.5284 - accuracy: 0.8822 - val_loss: 25.5545 - val_mean_squared_logarithmic_error: 0.4948 - val_accuracy: 0.8847\n",
      "Epoch 9/20\n",
      "25942/25942 [==============================] - 127s 5ms/step - loss: 25.6294 - mean_squared_logarithmic_error: 0.5274 - accuracy: 0.8824 - val_loss: 25.2563 - val_mean_squared_logarithmic_error: 0.4903 - val_accuracy: 0.8870\n",
      "Epoch 10/20\n",
      "25942/25942 [==============================] - 129s 5ms/step - loss: 25.6133 - mean_squared_logarithmic_error: 0.5268 - accuracy: 0.8823 - val_loss: 26.1107 - val_mean_squared_logarithmic_error: 0.5525 - val_accuracy: 0.8764\n",
      "Epoch 11/20\n",
      "25942/25942 [==============================] - 128s 5ms/step - loss: 25.5950 - mean_squared_logarithmic_error: 0.5256 - accuracy: 0.8823 - val_loss: 25.3825 - val_mean_squared_logarithmic_error: 0.5001 - val_accuracy: 0.8851\n",
      "Epoch 12/20\n",
      "25942/25942 [==============================] - 128s 5ms/step - loss: 25.5769 - mean_squared_logarithmic_error: 0.5251 - accuracy: 0.8826 - val_loss: 25.4359 - val_mean_squared_logarithmic_error: 0.5408 - val_accuracy: 0.8821\n",
      "Epoch 13/20\n",
      "25942/25942 [==============================] - 126s 5ms/step - loss: 25.5702 - mean_squared_logarithmic_error: 0.5244 - accuracy: 0.8826 - val_loss: 25.5295 - val_mean_squared_logarithmic_error: 0.5327 - val_accuracy: 0.8804\n",
      "Epoch 14/20\n",
      "25942/25942 [==============================] - 125s 5ms/step - loss: 25.5397 - mean_squared_logarithmic_error: 0.5239 - accuracy: 0.8828 - val_loss: 25.4140 - val_mean_squared_logarithmic_error: 0.5414 - val_accuracy: 0.8831\n",
      "Epoch 15/20\n",
      "25942/25942 [==============================] - 120s 5ms/step - loss: 25.5128 - mean_squared_logarithmic_error: 0.5234 - accuracy: 0.8828 - val_loss: 25.4245 - val_mean_squared_logarithmic_error: 0.5418 - val_accuracy: 0.8793\n",
      "Epoch 16/20\n",
      "25942/25942 [==============================] - 125s 5ms/step - loss: 25.5185 - mean_squared_logarithmic_error: 0.5233 - accuracy: 0.8828 - val_loss: 25.7101 - val_mean_squared_logarithmic_error: 0.5318 - val_accuracy: 0.8803\n",
      "Epoch 17/20\n",
      "25942/25942 [==============================] - 124s 5ms/step - loss: 25.5205 - mean_squared_logarithmic_error: 0.5231 - accuracy: 0.8827 - val_loss: 25.4095 - val_mean_squared_logarithmic_error: 0.5299 - val_accuracy: 0.8840\n",
      "Epoch 18/20\n",
      "25942/25942 [==============================] - 127s 5ms/step - loss: 25.5001 - mean_squared_logarithmic_error: 0.5227 - accuracy: 0.8826 - val_loss: 25.5031 - val_mean_squared_logarithmic_error: 0.5185 - val_accuracy: 0.8847\n",
      "Epoch 19/20\n",
      "25942/25942 [==============================] - 127s 5ms/step - loss: 25.5036 - mean_squared_logarithmic_error: 0.5226 - accuracy: 0.8827 - val_loss: 25.5935 - val_mean_squared_logarithmic_error: 0.5334 - val_accuracy: 0.8795\n",
      "Epoch 20/20\n",
      "25942/25942 [==============================] - 128s 5ms/step - loss: 25.4857 - mean_squared_logarithmic_error: 0.5222 - accuracy: 0.8828 - val_loss: 25.4275 - val_mean_squared_logarithmic_error: 0.5345 - val_accuracy: 0.8815\n"
     ]
    }
   ],
   "source": [
    "inputShape = [X_train.shape[1]]\n",
    "\n",
    "model = tf.keras.Sequential([\n",
    "    tf.keras.Input(shape=inputShape),\n",
    "    tf.keras.layers.Dense(units=1024, activation=\"softsign\"),\n",
    "    tf.keras.layers.Dense(units=512, activation=\"relu\"),\n",
    "    tf.keras.layers.Dense(units=256, activation=\"relu\"),\n",
    "    #tf.keras.layers.Dense(units=128, activation=\"tanh\"),\n",
    "    tf.keras.layers.Dense(units=3, activation=\"linear\")\n",
    "])\n",
    "\n",
    "#model.compile(optimizer='adam', loss=\"mean_squared_logarithmic_error\", metrics=['mean_squared_logarithmic_error'])\n",
    "model.compile(optimizer='adam', loss=tf.keras.losses.MeanSquaredError(), metrics=[tf.keras.metrics.MeanSquaredLogarithmicError(), 'accuracy'])\n",
    "fitModel = model.fit(X_train, Y_train, epochs=20, validation_data=[X_test, Y_test], batch_size=256)"
   ]
  },
  {
   "cell_type": "code",
   "execution_count": 148,
   "metadata": {},
   "outputs": [
    {
     "name": "stdout",
     "output_type": "stream",
     "text": [
      "[5]\n",
      "1/1 [==============================] - 0s 49ms/step\n",
      "[[14.319339  14.863642   0.4450842]]\n"
     ]
    }
   ],
   "source": [
    "print(inputShape)\n",
    "print(model.predict([[-123, 45.5, 4695, 10, 30]]))"
   ]
  },
  {
   "cell_type": "code",
   "execution_count": 109,
   "metadata": {},
   "outputs": [],
   "source": [
    "decentTempModel = model\n",
    "decentTempModelHist = fitModel"
   ]
  },
  {
   "cell_type": "code",
   "execution_count": null,
   "metadata": {},
   "outputs": [
    {
     "name": "stdout",
     "output_type": "stream",
     "text": [
      "Epoch 1/3\n",
      "6486/6486 [==============================] - 35s 5ms/step - loss: 0.0284 - mean_absolute_percentage_error: 1327996.5000 - accuracy: 0.3100 - val_loss: 0.0293 - val_mean_absolute_percentage_error: 62.5130 - val_accuracy: 0.3919\n",
      "Epoch 2/3\n",
      "6486/6486 [==============================] - 33s 5ms/step - loss: 0.0274 - mean_absolute_percentage_error: 62.5063 - accuracy: 0.3100 - val_loss: 0.0293 - val_mean_absolute_percentage_error: 62.5130 - val_accuracy: 0.3919\n",
      "Epoch 3/3\n",
      "6486/6486 [==============================] - 31s 5ms/step - loss: 0.0274 - mean_absolute_percentage_error: 62.5063 - accuracy: 0.3100 - val_loss: 0.0293 - val_mean_absolute_percentage_error: 62.5130 - val_accuracy: 0.3919\n"
     ]
    }
   ],
   "source": [
    "inputShape = [X_train.shape[1]]\n",
    "\n",
    "model = tf.keras.Sequential([\n",
    "    tf.keras.Input(shape=inputShape),\n",
    "    tf.keras.layers.Dense(units=1024, activation=\"relu\"),\n",
    "    tf.keras.layers.Dense(units=512, activation=\"relu\"),\n",
    "    tf.keras.layers.Dense(units=256, activation=\"relu\"),\n",
    "    tf.keras.layers.Dense(units=128, activation=\"relu\"),\n",
    "    tf.keras.layers.Dense(units=7, activation=\"relu\")\n",
    "])\n",
    "\n",
    "#model.compile(optimizer='adam', loss=\"mean_squared_logarithmic_error\", metrics=['mean_squared_logarithmic_error'])\n",
    "model.compile(optimizer='adam', loss=tf.keras.losses.MeanSquaredLogarithmicError(), metrics=[tf.keras.metrics.MeanAbsolutePercentageError(), 'accuracy'])\n",
    "model.fit(X_train, Y_train, epochs=3, validation_data=[X_test, Y_test], batch_size=1024)"
   ]
  }
 ],
 "metadata": {
  "kernelspec": {
   "display_name": "Python 3",
   "language": "python",
   "name": "python3"
  },
  "language_info": {
   "codemirror_mode": {
    "name": "ipython",
    "version": 3
   },
   "file_extension": ".py",
   "mimetype": "text/x-python",
   "name": "python",
   "nbconvert_exporter": "python",
   "pygments_lexer": "ipython3",
   "version": "3.10.9"
  },
  "orig_nbformat": 4,
  "vscode": {
   "interpreter": {
    "hash": "d2152fd7f0bbc62aa1baff8c990435d1e2c7175d001561303988032604c11a48"
   }
  }
 },
 "nbformat": 4,
 "nbformat_minor": 2
}
